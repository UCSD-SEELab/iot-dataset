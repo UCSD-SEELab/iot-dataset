{
 "cells": [
  {
   "cell_type": "code",
   "execution_count": 41,
   "id": "concrete-gnome",
   "metadata": {},
   "outputs": [],
   "source": [
    "import pandas as pd\n",
    "import numpy as np"
   ]
  },
  {
   "cell_type": "markdown",
   "id": "endless-volunteer",
   "metadata": {},
   "source": [
    "## Read data"
   ]
  },
  {
   "cell_type": "code",
   "execution_count": 42,
   "id": "common-force",
   "metadata": {},
   "outputs": [
    {
     "name": "stdout",
     "output_type": "stream",
     "text": [
      "(8760, 16)\n"
     ]
    },
    {
     "data": {
      "text/html": [
       "<div>\n",
       "<style scoped>\n",
       "    .dataframe tbody tr th:only-of-type {\n",
       "        vertical-align: middle;\n",
       "    }\n",
       "\n",
       "    .dataframe tbody tr th {\n",
       "        vertical-align: top;\n",
       "    }\n",
       "\n",
       "    .dataframe thead th {\n",
       "        text-align: right;\n",
       "    }\n",
       "</style>\n",
       "<table border=\"1\" class=\"dataframe\">\n",
       "  <thead>\n",
       "    <tr style=\"text-align: right;\">\n",
       "      <th></th>\n",
       "      <th>year</th>\n",
       "      <th>month</th>\n",
       "      <th>day</th>\n",
       "      <th>hour</th>\n",
       "      <th>Dn</th>\n",
       "      <th>Dm</th>\n",
       "      <th>Dx</th>\n",
       "      <th>Sn</th>\n",
       "      <th>Sm</th>\n",
       "      <th>Sx</th>\n",
       "      <th>Ta</th>\n",
       "      <th>Ua</th>\n",
       "      <th>Pa</th>\n",
       "      <th>Rc</th>\n",
       "      <th>Rd</th>\n",
       "      <th>Ri</th>\n",
       "    </tr>\n",
       "  </thead>\n",
       "  <tbody>\n",
       "    <tr>\n",
       "      <th>0</th>\n",
       "      <td>2021.0</td>\n",
       "      <td>1.0</td>\n",
       "      <td>1.0</td>\n",
       "      <td>0.0</td>\n",
       "      <td>36.05</td>\n",
       "      <td>47.48</td>\n",
       "      <td>65.57</td>\n",
       "      <td>7.21</td>\n",
       "      <td>9.63</td>\n",
       "      <td>11.41</td>\n",
       "      <td>2.91</td>\n",
       "      <td>49.57</td>\n",
       "      <td>828.14</td>\n",
       "      <td>655.35</td>\n",
       "      <td>43840.0</td>\n",
       "      <td>0.0</td>\n",
       "    </tr>\n",
       "    <tr>\n",
       "      <th>1</th>\n",
       "      <td>2021.0</td>\n",
       "      <td>1.0</td>\n",
       "      <td>1.0</td>\n",
       "      <td>1.0</td>\n",
       "      <td>34.22</td>\n",
       "      <td>43.85</td>\n",
       "      <td>81.98</td>\n",
       "      <td>7.17</td>\n",
       "      <td>10.59</td>\n",
       "      <td>12.95</td>\n",
       "      <td>2.99</td>\n",
       "      <td>47.38</td>\n",
       "      <td>827.86</td>\n",
       "      <td>655.35</td>\n",
       "      <td>43840.0</td>\n",
       "      <td>0.0</td>\n",
       "    </tr>\n",
       "    <tr>\n",
       "      <th>2</th>\n",
       "      <td>2021.0</td>\n",
       "      <td>1.0</td>\n",
       "      <td>1.0</td>\n",
       "      <td>2.0</td>\n",
       "      <td>31.73</td>\n",
       "      <td>43.43</td>\n",
       "      <td>69.63</td>\n",
       "      <td>7.40</td>\n",
       "      <td>11.56</td>\n",
       "      <td>14.18</td>\n",
       "      <td>2.86</td>\n",
       "      <td>47.86</td>\n",
       "      <td>827.76</td>\n",
       "      <td>655.35</td>\n",
       "      <td>43840.0</td>\n",
       "      <td>0.0</td>\n",
       "    </tr>\n",
       "    <tr>\n",
       "      <th>3</th>\n",
       "      <td>2021.0</td>\n",
       "      <td>1.0</td>\n",
       "      <td>1.0</td>\n",
       "      <td>3.0</td>\n",
       "      <td>28.95</td>\n",
       "      <td>42.53</td>\n",
       "      <td>65.62</td>\n",
       "      <td>6.23</td>\n",
       "      <td>9.55</td>\n",
       "      <td>11.80</td>\n",
       "      <td>2.63</td>\n",
       "      <td>48.15</td>\n",
       "      <td>828.01</td>\n",
       "      <td>655.35</td>\n",
       "      <td>43840.0</td>\n",
       "      <td>0.0</td>\n",
       "    </tr>\n",
       "    <tr>\n",
       "      <th>4</th>\n",
       "      <td>2021.0</td>\n",
       "      <td>1.0</td>\n",
       "      <td>1.0</td>\n",
       "      <td>4.0</td>\n",
       "      <td>31.20</td>\n",
       "      <td>42.15</td>\n",
       "      <td>54.13</td>\n",
       "      <td>8.34</td>\n",
       "      <td>11.30</td>\n",
       "      <td>13.12</td>\n",
       "      <td>2.34</td>\n",
       "      <td>49.36</td>\n",
       "      <td>828.20</td>\n",
       "      <td>655.35</td>\n",
       "      <td>43840.0</td>\n",
       "      <td>0.0</td>\n",
       "    </tr>\n",
       "  </tbody>\n",
       "</table>\n",
       "</div>"
      ],
      "text/plain": [
       "     year  month  day  hour     Dn     Dm     Dx    Sn     Sm     Sx    Ta  \\\n",
       "0  2021.0    1.0  1.0   0.0  36.05  47.48  65.57  7.21   9.63  11.41  2.91   \n",
       "1  2021.0    1.0  1.0   1.0  34.22  43.85  81.98  7.17  10.59  12.95  2.99   \n",
       "2  2021.0    1.0  1.0   2.0  31.73  43.43  69.63  7.40  11.56  14.18  2.86   \n",
       "3  2021.0    1.0  1.0   3.0  28.95  42.53  65.62  6.23   9.55  11.80  2.63   \n",
       "4  2021.0    1.0  1.0   4.0  31.20  42.15  54.13  8.34  11.30  13.12  2.34   \n",
       "\n",
       "      Ua      Pa      Rc       Rd   Ri  \n",
       "0  49.57  828.14  655.35  43840.0  0.0  \n",
       "1  47.38  827.86  655.35  43840.0  0.0  \n",
       "2  47.86  827.76  655.35  43840.0  0.0  \n",
       "3  48.15  828.01  655.35  43840.0  0.0  \n",
       "4  49.36  828.20  655.35  43840.0  0.0  "
      ]
     },
     "execution_count": 42,
     "metadata": {},
     "output_type": "execute_result"
    }
   ],
   "source": [
    "filelist = ['BH']\n",
    "\n",
    "df = pd.read_csv('2021/BH.csv')\n",
    "print(df.shape)\n",
    "df.head()"
   ]
  },
  {
   "cell_type": "code",
   "execution_count": 43,
   "id": "blocked-morris",
   "metadata": {},
   "outputs": [
    {
     "data": {
      "text/plain": [
       "<AxesSubplot:>"
      ]
     },
     "execution_count": 43,
     "metadata": {},
     "output_type": "execute_result"
    },
    {
     "data": {
      "image/png": "[encoded data removed]",
      "text/plain": [
       "<Figure size 864x360 with 1 Axes>"
      ]
     },
     "metadata": {
      "needs_background": "light"
     },
     "output_type": "display_data"
    }
   ],
   "source": [
    "df['Ta'].plot(figsize=(12,5))"
   ]
  },
  {
   "cell_type": "markdown",
   "id": "theoretical-explanation",
   "metadata": {},
   "source": [
    "## Check for stationarity (p-value should be less than 0.05)"
   ]
  },
  {
   "cell_type": "code",
   "execution_count": 44,
   "id": "concrete-texas",
   "metadata": {},
   "outputs": [
    {
     "name": "stdout",
     "output_type": "stream",
     "text": [
      "1. ADF :  -4.047757553720018\n",
      "2. P-Value :  0.0011800823296010373\n",
      "3. Num Of Lags :  37\n",
      "4. Num Of Observations Used For ADF Regression and Critical Values Calculation : 8722\n",
      "5. Critical Values :\n",
      "\t 1% :  -3.431099968539641\n",
      "\t 5% :  -2.86187143613454\n",
      "\t 10% :  -2.5669464184887825\n",
      "1. ADF :  -8.744605390618174\n",
      "2. P-Value :  2.9458476665525606e-14\n",
      "3. Num Of Lags :  27\n",
      "4. Num Of Observations Used For ADF Regression and Critical Values Calculation : 8732\n",
      "5. Critical Values :\n",
      "\t 1% :  -3.4310991094132306\n",
      "\t 5% :  -2.8618710565057626\n",
      "\t 10% :  -2.5669462164097956\n"
     ]
    }
   ],
   "source": [
    "from statsmodels.tsa.stattools import adfuller\n",
    "\n",
    "def adf_test(dataset):\n",
    "  dftest = adfuller(dataset, autolag = 'AIC')\n",
    "  print(\"1. ADF : \",dftest[0])\n",
    "  print(\"2. P-Value : \", dftest[1])\n",
    "  print(\"3. Num Of Lags : \", dftest[2])\n",
    "  print(\"4. Num Of Observations Used For ADF Regression and Critical Values Calculation :\", dftest[3])\n",
    "  print(\"5. Critical Values :\")\n",
    "  for key, val in dftest[4].items():\n",
    "      print(\"\\t\",key, \": \", val)\n",
    "        \n",
    "adf_test(np.nan_to_num(df['Ta'], nan=0.0))\n",
    "adf_test(np.nan_to_num(df['Ua'], nan=0.0))"
   ]
  },
  {
   "cell_type": "markdown",
   "id": "executed-engineering",
   "metadata": {},
   "source": [
    "## Figure out order for ARIMA model"
   ]
  },
  {
   "cell_type": "code",
   "execution_count": 45,
   "id": "satisfactory-professor",
   "metadata": {},
   "outputs": [
    {
     "data": {
      "text/html": [
       "<table class=\"simpletable\">\n",
       "<caption>SARIMAX Results</caption>\n",
       "<tr>\n",
       "  <th>Dep. Variable:</th>           <td>y</td>        <th>  No. Observations:  </th>   <td>8760</td>   \n",
       "</tr>\n",
       "<tr>\n",
       "  <th>Model:</th>           <td>SARIMAX(3, 1, 1)</td> <th>  Log Likelihood     </th> <td>-9206.594</td>\n",
       "</tr>\n",
       "<tr>\n",
       "  <th>Date:</th>            <td>Sun, 17 Apr 2022</td> <th>  AIC                </th> <td>18423.188</td>\n",
       "</tr>\n",
       "<tr>\n",
       "  <th>Time:</th>                <td>22:52:15</td>     <th>  BIC                </th> <td>18458.577</td>\n",
       "</tr>\n",
       "<tr>\n",
       "  <th>Sample:</th>                  <td>0</td>        <th>  HQIC               </th> <td>18435.247</td>\n",
       "</tr>\n",
       "<tr>\n",
       "  <th></th>                      <td> - 8760</td>     <th>                     </th>     <td> </td>    \n",
       "</tr>\n",
       "<tr>\n",
       "  <th>Covariance Type:</th>        <td>opg</td>       <th>                     </th>     <td> </td>    \n",
       "</tr>\n",
       "</table>\n",
       "<table class=\"simpletable\">\n",
       "<tr>\n",
       "     <td></td>       <th>coef</th>     <th>std err</th>      <th>z</th>      <th>P>|z|</th>  <th>[0.025</th>    <th>0.975]</th>  \n",
       "</tr>\n",
       "<tr>\n",
       "  <th>ar.L1</th>  <td>    1.0598</td> <td>    0.046</td> <td>   22.810</td> <td> 0.000</td> <td>    0.969</td> <td>    1.151</td>\n",
       "</tr>\n",
       "<tr>\n",
       "  <th>ar.L2</th>  <td>   -0.1564</td> <td>    0.011</td> <td>  -13.744</td> <td> 0.000</td> <td>   -0.179</td> <td>   -0.134</td>\n",
       "</tr>\n",
       "<tr>\n",
       "  <th>ar.L3</th>  <td>   -0.0257</td> <td>    0.009</td> <td>   -3.010</td> <td> 0.003</td> <td>   -0.042</td> <td>   -0.009</td>\n",
       "</tr>\n",
       "<tr>\n",
       "  <th>ma.L1</th>  <td>   -0.8775</td> <td>    0.047</td> <td>  -18.713</td> <td> 0.000</td> <td>   -0.969</td> <td>   -0.786</td>\n",
       "</tr>\n",
       "<tr>\n",
       "  <th>sigma2</th> <td>    0.4792</td> <td>    0.002</td> <td>  254.463</td> <td> 0.000</td> <td>    0.475</td> <td>    0.483</td>\n",
       "</tr>\n",
       "</table>\n",
       "<table class=\"simpletable\">\n",
       "<tr>\n",
       "  <th>Ljung-Box (L1) (Q):</th>     <td>0.00</td> <th>  Jarque-Bera (JB):  </th> <td>1666920.66</td>\n",
       "</tr>\n",
       "<tr>\n",
       "  <th>Prob(Q):</th>                <td>1.00</td> <th>  Prob(JB):          </th>    <td>0.00</td>   \n",
       "</tr>\n",
       "<tr>\n",
       "  <th>Heteroskedasticity (H):</th> <td>0.75</td> <th>  Skew:              </th>    <td>0.14</td>   \n",
       "</tr>\n",
       "<tr>\n",
       "  <th>Prob(H) (two-sided):</th>    <td>0.00</td> <th>  Kurtosis:          </th>    <td>70.58</td>  \n",
       "</tr>\n",
       "</table><br/><br/>Warnings:<br/>[1] Covariance matrix calculated using the outer product of gradients (complex-step)."
      ],
      "text/plain": [
       "<class 'statsmodels.iolib.summary.Summary'>\n",
       "\"\"\"\n",
       "                               SARIMAX Results                                \n",
       "==============================================================================\n",
       "Dep. Variable:                      y   No. Observations:                 8760\n",
       "Model:               SARIMAX(3, 1, 1)   Log Likelihood               -9206.594\n",
       "Date:                Sun, 17 Apr 2022   AIC                          18423.188\n",
       "Time:                        22:52:15   BIC                          18458.577\n",
       "Sample:                             0   HQIC                         18435.247\n",
       "                               - 8760                                         \n",
       "Covariance Type:                  opg                                         \n",
       "==============================================================================\n",
       "                 coef    std err          z      P>|z|      [0.025      0.975]\n",
       "------------------------------------------------------------------------------\n",
       "ar.L1          1.0598      0.046     22.810      0.000       0.969       1.151\n",
       "ar.L2         -0.1564      0.011    -13.744      0.000      -0.179      -0.134\n",
       "ar.L3         -0.0257      0.009     -3.010      0.003      -0.042      -0.009\n",
       "ma.L1         -0.8775      0.047    -18.713      0.000      -0.969      -0.786\n",
       "sigma2         0.4792      0.002    254.463      0.000       0.475       0.483\n",
       "===================================================================================\n",
       "Ljung-Box (L1) (Q):                   0.00   Jarque-Bera (JB):           1666920.66\n",
       "Prob(Q):                              1.00   Prob(JB):                         0.00\n",
       "Heteroskedasticity (H):               0.75   Skew:                             0.14\n",
       "Prob(H) (two-sided):                  0.00   Kurtosis:                        70.58\n",
       "===================================================================================\n",
       "\n",
       "Warnings:\n",
       "[1] Covariance matrix calculated using the outer product of gradients (complex-step).\n",
       "\"\"\""
      ]
     },
     "execution_count": 45,
     "metadata": {},
     "output_type": "execute_result"
    }
   ],
   "source": [
    "from pmdarima import auto_arima\n",
    "\n",
    "stepwise_fit = auto_arima(np.nan_to_num(df['Ta'], nan=0.0), \n",
    "                          suppress_warnings=True)           \n",
    "\n",
    "stepwise_fit.summary()"
   ]
  },
  {
   "cell_type": "markdown",
   "id": "stable-infection",
   "metadata": {},
   "source": [
    "## Split Data into Training and Testing"
   ]
  },
  {
   "cell_type": "code",
   "execution_count": 46,
   "id": "molecular-paragraph",
   "metadata": {},
   "outputs": [
    {
     "name": "stdout",
     "output_type": "stream",
     "text": [
      "(7884, 16) (876, 16)\n",
      "year      2021.00\n",
      "month       11.00\n",
      "day         25.00\n",
      "hour        12.00\n",
      "Dn          59.77\n",
      "Dm          63.58\n",
      "Dx         141.02\n",
      "Sn           3.90\n",
      "Sm           7.49\n",
      "Sx          10.16\n",
      "Ta           8.24\n",
      "Ua          11.07\n",
      "Pa         836.49\n",
      "Rc         144.20\n",
      "Rd       14480.00\n",
      "Ri           0.00\n",
      "Name: 7884, dtype: float64 year     2021.00\n",
      "month      12.00\n",
      "day        31.00\n",
      "hour       23.00\n",
      "Dn        191.86\n",
      "Dm        200.78\n",
      "Dx        214.12\n",
      "Sn          4.78\n",
      "Sm          5.54\n",
      "Sx          6.15\n",
      "Ta         -0.84\n",
      "Ua         91.71\n",
      "Pa        823.39\n",
      "Rc        449.18\n",
      "Rd       6080.00\n",
      "Ri          0.00\n",
      "Name: 8759, dtype: float64\n"
     ]
    }
   ],
   "source": [
    "test_samples_num = int(0.1 * df.shape[0])\n",
    "train = df.iloc[:-test_samples_num]\n",
    "test = df.iloc[-test_samples_num:]\n",
    "print(train.shape, test.shape)\n",
    "print(test.iloc[0], test.iloc[-1])"
   ]
  },
  {
   "cell_type": "markdown",
   "id": "revolutionary-timing",
   "metadata": {},
   "source": [
    "## Train the ARIMA model"
   ]
  },
  {
   "cell_type": "code",
   "execution_count": 47,
   "id": "twenty-wages",
   "metadata": {},
   "outputs": [
    {
     "data": {
      "text/html": [
       "<table class=\"simpletable\">\n",
       "<caption>SARIMAX Results</caption>\n",
       "<tr>\n",
       "  <th>Dep. Variable:</th>           <td>y</td>        <th>  No. Observations:  </th>   <td>7884</td>   \n",
       "</tr>\n",
       "<tr>\n",
       "  <th>Model:</th>            <td>ARIMA(3, 1, 1)</td>  <th>  Log Likelihood     </th> <td>-8483.967</td>\n",
       "</tr>\n",
       "<tr>\n",
       "  <th>Date:</th>            <td>Sun, 17 Apr 2022</td> <th>  AIC                </th> <td>16977.935</td>\n",
       "</tr>\n",
       "<tr>\n",
       "  <th>Time:</th>                <td>22:52:17</td>     <th>  BIC                </th> <td>17012.797</td>\n",
       "</tr>\n",
       "<tr>\n",
       "  <th>Sample:</th>                  <td>0</td>        <th>  HQIC               </th> <td>16989.876</td>\n",
       "</tr>\n",
       "<tr>\n",
       "  <th></th>                      <td> - 7884</td>     <th>                     </th>     <td> </td>    \n",
       "</tr>\n",
       "<tr>\n",
       "  <th>Covariance Type:</th>        <td>opg</td>       <th>                     </th>     <td> </td>    \n",
       "</tr>\n",
       "</table>\n",
       "<table class=\"simpletable\">\n",
       "<tr>\n",
       "     <td></td>       <th>coef</th>     <th>std err</th>      <th>z</th>      <th>P>|z|</th>  <th>[0.025</th>    <th>0.975]</th>  \n",
       "</tr>\n",
       "<tr>\n",
       "  <th>ar.L1</th>  <td>    1.0495</td> <td>    0.048</td> <td>   21.736</td> <td> 0.000</td> <td>    0.955</td> <td>    1.144</td>\n",
       "</tr>\n",
       "<tr>\n",
       "  <th>ar.L2</th>  <td>   -0.1485</td> <td>    0.012</td> <td>  -12.637</td> <td> 0.000</td> <td>   -0.172</td> <td>   -0.125</td>\n",
       "</tr>\n",
       "<tr>\n",
       "  <th>ar.L3</th>  <td>   -0.0271</td> <td>    0.009</td> <td>   -2.957</td> <td> 0.003</td> <td>   -0.045</td> <td>   -0.009</td>\n",
       "</tr>\n",
       "<tr>\n",
       "  <th>ma.L1</th>  <td>   -0.8757</td> <td>    0.049</td> <td>  -17.970</td> <td> 0.000</td> <td>   -0.971</td> <td>   -0.780</td>\n",
       "</tr>\n",
       "<tr>\n",
       "  <th>sigma2</th> <td>    0.5039</td> <td>    0.002</td> <td>  240.469</td> <td> 0.000</td> <td>    0.500</td> <td>    0.508</td>\n",
       "</tr>\n",
       "</table>\n",
       "<table class=\"simpletable\">\n",
       "<tr>\n",
       "  <th>Ljung-Box (L1) (Q):</th>     <td>0.00</td> <th>  Jarque-Bera (JB):  </th> <td>1456954.90</td>\n",
       "</tr>\n",
       "<tr>\n",
       "  <th>Prob(Q):</th>                <td>0.99</td> <th>  Prob(JB):          </th>    <td>0.00</td>   \n",
       "</tr>\n",
       "<tr>\n",
       "  <th>Heteroskedasticity (H):</th> <td>0.86</td> <th>  Skew:              </th>    <td>0.11</td>   \n",
       "</tr>\n",
       "<tr>\n",
       "  <th>Prob(H) (two-sided):</th>    <td>0.00</td> <th>  Kurtosis:          </th>    <td>69.60</td>  \n",
       "</tr>\n",
       "</table><br/><br/>Warnings:<br/>[1] Covariance matrix calculated using the outer product of gradients (complex-step)."
      ],
      "text/plain": [
       "<class 'statsmodels.iolib.summary.Summary'>\n",
       "\"\"\"\n",
       "                               SARIMAX Results                                \n",
       "==============================================================================\n",
       "Dep. Variable:                      y   No. Observations:                 7884\n",
       "Model:                 ARIMA(3, 1, 1)   Log Likelihood               -8483.967\n",
       "Date:                Sun, 17 Apr 2022   AIC                          16977.935\n",
       "Time:                        22:52:17   BIC                          17012.797\n",
       "Sample:                             0   HQIC                         16989.876\n",
       "                               - 7884                                         \n",
       "Covariance Type:                  opg                                         \n",
       "==============================================================================\n",
       "                 coef    std err          z      P>|z|      [0.025      0.975]\n",
       "------------------------------------------------------------------------------\n",
       "ar.L1          1.0495      0.048     21.736      0.000       0.955       1.144\n",
       "ar.L2         -0.1485      0.012    -12.637      0.000      -0.172      -0.125\n",
       "ar.L3         -0.0271      0.009     -2.957      0.003      -0.045      -0.009\n",
       "ma.L1         -0.8757      0.049    -17.970      0.000      -0.971      -0.780\n",
       "sigma2         0.5039      0.002    240.469      0.000       0.500       0.508\n",
       "===================================================================================\n",
       "Ljung-Box (L1) (Q):                   0.00   Jarque-Bera (JB):           1456954.90\n",
       "Prob(Q):                              0.99   Prob(JB):                         0.00\n",
       "Heteroskedasticity (H):               0.86   Skew:                             0.11\n",
       "Prob(H) (two-sided):                  0.00   Kurtosis:                        69.60\n",
       "===================================================================================\n",
       "\n",
       "Warnings:\n",
       "[1] Covariance matrix calculated using the outer product of gradients (complex-step).\n",
       "\"\"\""
      ]
     },
     "execution_count": 47,
     "metadata": {},
     "output_type": "execute_result"
    }
   ],
   "source": [
    "from statsmodels.tsa.arima.model import ARIMA\n",
    "model = ARIMA(np.nan_to_num(train['Ta'], nan=0.0), order=(3, 1, 1))\n",
    "model = model.fit()\n",
    "model.summary()"
   ]
  },
  {
   "cell_type": "markdown",
   "id": "upper-racing",
   "metadata": {},
   "source": [
    "## Make predictions on test set"
   ]
  },
  {
   "cell_type": "code",
   "execution_count": 52,
   "id": "dutch-venezuela",
   "metadata": {},
   "outputs": [
    {
     "data": {
      "text/plain": [
       "<AxesSubplot:>"
      ]
     },
     "execution_count": 52,
     "metadata": {},
     "output_type": "execute_result"
    },
    {
     "data": {
      "image/png": "[encoded data removed]",
      "text/plain": [
       "<Figure size 432x288 with 1 Axes>"
      ]
     },
     "metadata": {
      "needs_background": "light"
     },
     "output_type": "display_data"
    }
   ],
   "source": [
    "start = len(train)\n",
    "end = len(train) + len(test) - 1\n",
    "pred = model.predict(start=start,end=end,typ='levels')\n",
    "pred = pd.DataFrame(pred, columns=['ARIMA pred'], index=np.arange(start, end+1))\n",
    "pred.plot(legend=True)\n",
    "test['Ta'].plot(legend=True)"
   ]
  },
  {
   "cell_type": "code",
   "execution_count": null,
   "id": "engaging-accreditation",
   "metadata": {},
   "outputs": [],
   "source": []
  }
 ],
 "metadata": {
  "kernelspec": {
   "display_name": "hpwren",
   "language": "python",
   "name": "hpwren"
  },
  "language_info": {
   "codemirror_mode": {
    "name": "ipython",
    "version": 3
   },
   "file_extension": ".py",
   "mimetype": "text/x-python",
   "name": "python",
   "nbconvert_exporter": "python",
   "pygments_lexer": "ipython3",
   "version": "3.9.1"
  }
 },
 "nbformat": 4,
 "nbformat_minor": 5
}
